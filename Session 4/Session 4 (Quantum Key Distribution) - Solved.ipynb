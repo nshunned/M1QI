{
 "cells": [
  {
   "cell_type": "code",
   "execution_count": 112,
   "id": "14a697b0-409b-483e-ae7f-5983807d09f8",
   "metadata": {},
   "outputs": [],
   "source": [
    "import numpy as np\n",
    "from qiskit import QuantumCircuit, ClassicalRegister, QuantumRegister, transpile\n",
    "from qiskit.quantum_info import Statevector\n",
    "from qiskit.visualization import plot_bloch_multivector,plot_histogram\n",
    "from qiskit_aer import AerSimulator\n",
    "\n",
    "def SendState(qc1, qc2, qc1_name):\n",
    "    ''' This function takes the output of a circuit qc1 (made up only of x and \n",
    "        h gates and initializes another circuit qc2 with the same state\n",
    "    ''' \n",
    "    \n",
    "    # Quantum state is retrieved from qasm code of qc1\n",
    "    qs = qc1.qasm().split(sep=';')[4:-1]\n",
    "\n",
    "    # Process the code to get the instructions\n",
    "    for index, instruction in enumerate(qs):\n",
    "        qs[index] = instruction.lstrip()\n",
    "\n",
    "    # Parse the instructions and apply to new circuit\n",
    "    for instruction in qs:\n",
    "        if instruction[0] == 'x':\n",
    "            old_qr = int(instruction[5:-1])\n",
    "            qc2.x(qr[old_qr])\n",
    "        elif instruction[0] == 'h':\n",
    "            old_qr = int(instruction[5:-1])\n",
    "            qc2.h(qr[old_qr])\n",
    "        elif instruction[0] == 'm': # exclude measuring:\n",
    "            pass\n",
    "        else:\n",
    "            raise Exception('Unable to parse instruction')"
   ]
  },
  {
   "cell_type": "markdown",
   "id": "b1b1d409-aa4a-4cba-af06-481cdfd06382",
   "metadata": {},
   "source": [
    "Exercise 1: Design the key-encoding quantum circuit. \n",
    "For this, first create a 8-bit classical register and a 8-qubit quantum register.\n",
    "and then merge them. Hereinafter we will refer to this circuit as ‘Alice quantum circuit’. "
   ]
  },
  {
   "cell_type": "code",
   "execution_count": 113,
   "id": "9bf4f43a-78de-47e4-a457-25f67b02087d",
   "metadata": {},
   "outputs": [],
   "source": [
    "# Complete the code to create a n-bit classical register and a n-qubit quantum register\n",
    "# Use 'QuantumRegister' and 'ClassicalRegister'\n",
    "\n",
    "n = 8  # note for a local backend n can go as up as 23, after that it raises a Memory Error\n",
    "\n",
    "qr = QuantumRegister(n, name='qr')\n",
    "cr = ClassicalRegister(n,name='cr')\n",
    "\n",
    "# Quantum circuit for alice state\n",
    "\n",
    "aliceqc = QuantumCircuit(qr,cr, name='Alice')\n",
    "\n",
    "#aliceqc.draw('mpl')\n"
   ]
  },
  {
   "cell_type": "markdown",
   "id": "b4ad1f0e-29d8-44af-bfe1-d1ceef5d2ff9",
   "metadata": {},
   "source": [
    "Exercise 2: Generate a random 8-bit quantum key. \n",
    "For this, first generate a random number using ‘np.random.randint’ and then convert it into binary using ‘np.binary_repr’.\n",
    "Print the key both in decimal and binary forms.  Run the code several times to make sure the key is randomly generated at every run. \n",
    "Finally, encode the key as qubits using the ‘Alice quantum circuit’.  For this, apply an X gate to the corresponding qubit when the digit in the key is equal to ‘1’. \n",
    "Plot the resulting circuit."
   ]
  },
  {
   "cell_type": "code",
   "execution_count": 114,
   "id": "eca44466-cacc-4775-84f1-fc5e82c19e6d",
   "metadata": {},
   "outputs": [
    {
     "name": "stdout",
     "output_type": "stream",
     "text": [
      "218\n"
     ]
    }
   ],
   "source": [
    "# Generate a random number in the range of n qubits \n",
    "\n",
    "alice_key = np.random.randint(0,high=2**n)\n",
    "\n",
    "#print the key in decimal form\n",
    "\n",
    "print(alice_key)"
   ]
  },
  {
   "cell_type": "code",
   "execution_count": 115,
   "id": "619fe870-633f-4a08-ac22-ce1631e0cb1e",
   "metadata": {},
   "outputs": [
    {
     "name": "stdout",
     "output_type": "stream",
     "text": [
      "11011010\n"
     ]
    }
   ],
   "source": [
    "# Convert key to binary for encoding\n",
    "\n",
    "alice_key = np.binary_repr(alice_key,n)\n",
    "\n",
    "#print the key in binary form\n",
    "\n",
    "print(alice_key)"
   ]
  },
  {
   "cell_type": "code",
   "execution_count": 116,
   "id": "644dfe5d-7689-404e-a490-c1c485a9488e",
   "metadata": {},
   "outputs": [
    {
     "data": {
      "image/png": "[encoded data removed]",
      "text/plain": [
       "<Figure size 155.451x565.88 with 1 Axes>"
      ]
     },
     "execution_count": 116,
     "metadata": {},
     "output_type": "execute_result"
    }
   ],
   "source": [
    "# Encode the key as qubits using the 'Alice quantum circuit'. Apply X when the digit is equal to 1\n",
    "\n",
    "for index, digit in enumerate(alice_key):\n",
    "    if digit == '1':\n",
    "        aliceqc.x(qr[index])\n",
    "        \n",
    "        \n",
    "#plot the circuit\n",
    "\n",
    "aliceqc.draw('mpl')"
   ]
  },
  {
   "cell_type": "markdown",
   "id": "c0904425-b555-4710-bff5-fd99c168dfd3",
   "metadata": {},
   "source": [
    "Exercise 3: Measure every qubit in the key according to the following basis [X,Z,Z,Z,X,Z,X,X] where X stands for the diagonal basis and Z for the computational basis. This corresponds to applying a H-gate to the qubit when measured in the diagonal basis. Print the resulting circuit. Next, propose a code generating a random measurement basis for every qubit."
   ]
  },
  {
   "cell_type": "code",
   "execution_count": 117,
   "id": "9a826de6-3fae-49dc-827b-d0513c7210f0",
   "metadata": {},
   "outputs": [
    {
     "data": {
      "image/png": "[encoded data removed]",
      "text/plain": [
       "<Figure size 215.651x565.88 with 1 Axes>"
      ]
     },
     "execution_count": 117,
     "metadata": {},
     "output_type": "execute_result"
    }
   ],
   "source": [
    "\n",
    "#ATTENTION: This case will give an error if you use a number of qubits 'n' different from 8\n",
    "\n",
    "alice_measurement_basis_table = ['X','Z','Z','Z','X','Z','X','X']        \n",
    "\n",
    "for index in range(len(qr)):       \n",
    "    if alice_measurement_basis_table[index] == 'X':   \n",
    "        aliceqc.h(qr[index])    \n",
    "\n",
    "#plot the circuit\n",
    "\n",
    "aliceqc.draw('mpl')"
   ]
  },
  {
   "cell_type": "code",
   "execution_count": 118,
   "id": "0e9bfe1b-1b36-465b-ba99-e38e850c6cc5",
   "metadata": {},
   "outputs": [
    {
     "name": "stdout",
     "output_type": "stream",
     "text": [
      "['Z', 'X', 'X', 'X', 'Z', 'X', 'Z', 'X']\n"
     ]
    },
    {
     "data": {
      "image/png": "[encoded data removed]",
      "text/plain": [
       "<Figure size 215.651x565.88 with 1 Axes>"
      ]
     },
     "execution_count": 118,
     "metadata": {},
     "output_type": "execute_result"
    }
   ],
   "source": [
    "# Quantum circuit for alice state - random basis\n",
    "\n",
    "aliceqc2 = QuantumCircuit(qr,cr, name='Alice')\n",
    "\n",
    "for index, digit in enumerate(alice_key):\n",
    "    if digit == '1':\n",
    "        aliceqc2.x(qr[index])\n",
    "        \n",
    "random_alice_measurement_basis_table = []   # Create empty basis table     \n",
    "\n",
    "for index in range(len(qr)):       \n",
    "    if 0.5 < np.random.random():   \n",
    "        aliceqc2.h(qr[index])   \n",
    "        random_alice_measurement_basis_table.append('X')   \n",
    "    else:\n",
    "        random_alice_measurement_basis_table.append('Z')    \n",
    "        \n",
    "print(random_alice_measurement_basis_table)\n",
    "\n",
    "#plot the circuit\n",
    "\n",
    "aliceqc2.draw('mpl')\n",
    "\n"
   ]
  },
  {
   "cell_type": "markdown",
   "id": "ffee58e3-ba42-4114-9c65-77f321df087b",
   "metadata": {},
   "source": [
    "Exercise 4: Define 'Bob's circuit' as a copy of Alice's circuit using the SendState funcion. Generate and apply random measurement basis to Bob's circuit as you did for Alice's. Measure all qubits in Bob, run the simulation and plot the histogram. Is alice_key within the results of the histogram?"
   ]
  },
  {
   "cell_type": "code",
   "execution_count": 119,
   "id": "c603e564-fd3a-4394-bdb7-10d03a7b09fa",
   "metadata": {},
   "outputs": [
    {
     "data": {
      "image/png": "[encoded data removed]",
      "text/plain": [
       "<Figure size 215.651x565.88 with 1 Axes>"
      ]
     },
     "execution_count": 119,
     "metadata": {},
     "output_type": "execute_result"
    }
   ],
   "source": [
    "#define bobqc and ist initial state as a copy of Alice state\n",
    "\n",
    "bobqc = QuantumCircuit(qr,cr, name='Bob')\n",
    "\n",
    "SendState(aliceqc2, bobqc, 'Alice')    \n",
    "\n",
    "bobqc.draw('mpl')"
   ]
  },
  {
   "cell_type": "code",
   "execution_count": 120,
   "id": "88036fa9-5fb4-44b1-baf0-4e49f128f541",
   "metadata": {},
   "outputs": [
    {
     "name": "stdout",
     "output_type": "stream",
     "text": [
      "['X', 'X', 'Z', 'Z', 'X', 'X', 'Z', 'Z']\n"
     ]
    },
    {
     "data": {
      "image/png": "[encoded data removed]",
      "text/plain": [
       "<Figure size 275.851x565.88 with 1 Axes>"
      ]
     },
     "execution_count": 120,
     "metadata": {},
     "output_type": "execute_result"
    }
   ],
   "source": [
    "# Quantum circuit for bob state - random basis - complete the code\n",
    "\n",
    "random_bob_measurement_basis_table = []   # Create empty basis table     \n",
    "\n",
    "for index in range(len(qr)):       \n",
    "    if 0.5 < np.random.random():   \n",
    "        bobqc.h(qr[index])   \n",
    "        random_bob_measurement_basis_table.append('X')   \n",
    "    else:\n",
    "        random_bob_measurement_basis_table.append('Z')    \n",
    "        \n",
    "print(random_bob_measurement_basis_table)\n",
    "\n",
    "bobqc.draw('mpl')    "
   ]
  },
  {
   "cell_type": "code",
   "execution_count": 121,
   "id": "b99d28a7-c31a-4416-b69a-da95306a2478",
   "metadata": {},
   "outputs": [],
   "source": [
    "# Measure all qubits in bob \n",
    "\n",
    "for index in range(len(qr)): \n",
    "    bobqc.measure(qr[index],cr[index])\n",
    "\n",
    "sim = AerSimulator()\n",
    "\n",
    "compiled_circuit = transpile(bobqc, sim)\n",
    "\n",
    "job=sim.run(compiled_circuit)\n",
    "\n",
    "result = job.result()\n",
    "\n",
    "counts = result.get_counts()\n",
    "\n",
    "#plot_histogram(counts) \n"
   ]
  },
  {
   "cell_type": "markdown",
   "id": "ff11ff22-d5a6-45ed-8f11-4ee1e11bcc8b",
   "metadata": {},
   "source": [
    "Exercise 5: Execute the proposed code. Once Alice and Bob's keys have been exchanged and qubits measured with different basis discarded, are the remaining keys equal (percentage of similarity = 1)?. Does this result depends on the number of bits in the key? How many bits needs your key to be able to send the key over long distances given the photon losses in optical fibers? "
   ]
  },
  {
   "cell_type": "code",
   "execution_count": 122,
   "id": "f5ebc20d-a28f-44ea-aaba-e1cb3731d5a9",
   "metadata": {},
   "outputs": [
    {
     "name": "stdout",
     "output_type": "stream",
     "text": [
      "11100011\n",
      "11011010\n"
     ]
    }
   ],
   "source": [
    "bob_keys=[x[::-1] for x in counts.keys()] # key elements reversed so that first qubit is the first element of the list\n",
    "\n",
    "bob_key=bob_keys[0] #Bob key candidate\n",
    "\n",
    "print(bob_key)\n",
    "print(alice_key)\n"
   ]
  },
  {
   "cell_type": "code",
   "execution_count": 123,
   "id": "2b625c66-0403-44d6-94f5-8ec133186d0c",
   "metadata": {},
   "outputs": [
    {
     "name": "stdout",
     "output_type": "stream",
     "text": [
      "Different choice for qubit: 0, Alice has Z, Bob has X\n",
      "\n",
      "Same choice for qubit: 1, basis: X\n",
      "\n",
      "Different choice for qubit: 2, Alice has X, Bob has Z\n",
      "\n",
      "Different choice for qubit: 3, Alice has X, Bob has Z\n",
      "\n",
      "Different choice for qubit: 4, Alice has Z, Bob has X\n",
      "\n",
      "Same choice for qubit: 5, basis: X\n",
      "\n",
      "Same choice for qubit: 6, basis: Z\n",
      "\n",
      "Different choice for qubit: 7, Alice has X, Bob has Z\n",
      "\n",
      "Mantained qubits [1, 5, 6]\n",
      "Discarded qubits [0, 2, 3, 4, 7]\n"
     ]
    }
   ],
   "source": [
    "#execute the following code and observe and comment the results\n",
    "\n",
    "keep = []\n",
    "discard = []\n",
    "\n",
    "for qubit, basis in enumerate(zip(random_alice_measurement_basis_table, random_bob_measurement_basis_table)):\n",
    "    if basis[0] == basis[1]:\n",
    "        print(\"Same choice for qubit: {}, basis: {}\\n\" .format(qubit, basis[0])) \n",
    "        keep.append(qubit)\n",
    "    else:\n",
    "        print(\"Different choice for qubit: {}, Alice has {}, Bob has {}\\n\" .format(qubit, basis[0], basis[1]))\n",
    "        discard.append(qubit)\n",
    "print(\"Mantained qubits {}\".format(keep))\n",
    "print(\"Discarded qubits {}\".format(discard))\n",
    "\n"
   ]
  },
  {
   "cell_type": "code",
   "execution_count": 124,
   "id": "fb29ef16-1513-4311-b73a-f04ac78384e8",
   "metadata": {},
   "outputs": [
    {
     "name": "stdout",
     "output_type": "stream",
     "text": [
      "Percentage of qubits to be discarded according to table comparison:  0.625\n",
      "Measurement convergence by additional chance:  0.5\n"
     ]
    }
   ],
   "source": [
    "acc = 0\n",
    "\n",
    "for bit in zip(alice_key, bob_key):\n",
    "    if bit[0] == bit[1]:\n",
    "        acc += 1\n",
    "\n",
    "print('Percentage of qubits to be discarded according to table comparison: ', len(discard)/n)\n",
    "print('Measurement convergence by additional chance: ', acc/n) "
   ]
  },
  {
   "cell_type": "code",
   "execution_count": 125,
   "id": "307ebe8c-ece4-4e20-9f58-3786e927339c",
   "metadata": {},
   "outputs": [
    {
     "name": "stdout",
     "output_type": "stream",
     "text": [
      "['1', '0', '1']\n",
      "['1', '0', '1']\n",
      "Percentage of similarity between the keys:  1.0\n"
     ]
    }
   ],
   "source": [
    "new_alice_key = [alice_key[qubit] for qubit in keep]\n",
    "print(new_alice_key)\n",
    "\n",
    "new_bob_key = [bob_key[qubit] for qubit in keep]\n",
    "print(new_bob_key)\n",
    "\n",
    "acc = 0\n",
    "for bit in zip(new_alice_key, new_bob_key):\n",
    "    if bit[0] == bit[1]:\n",
    "        acc += 1        \n",
    "        \n",
    "print('Percentage of similarity between the keys: ', acc/len(new_alice_key))      "
   ]
  },
  {
   "cell_type": "markdown",
   "id": "681b2821-6d09-4697-97cd-95fd09e1cc7a",
   "metadata": {},
   "source": [
    "Exercise 6: Include a third circuit (Spy circuit), between Alice and Bob. The spy circuit measures using its own random basis. How can you detect that the key has been intercepted?"
   ]
  },
  {
   "cell_type": "code",
   "execution_count": 126,
   "id": "7d1858d0-f25a-4064-b605-6d5d0312eb75",
   "metadata": {},
   "outputs": [
    {
     "name": "stdout",
     "output_type": "stream",
     "text": [
      "['Z', 'Z', 'X', 'X', 'X', 'Z', 'Z', 'X']\n"
     ]
    },
    {
     "data": {
      "image/png": "[encoded data removed]",
      "text/plain": [
       "<Figure size 275.851x565.88 with 1 Axes>"
      ]
     },
     "execution_count": 126,
     "metadata": {},
     "output_type": "execute_result"
    }
   ],
   "source": [
    "#define the spy circuit (SendState to copy aliceqc2) and a random measurement basis\n",
    "\n",
    "spyqc = QuantumCircuit(qr,cr,name='Spy')\n",
    "SendState(aliceqc2,spyqc,'Alice')\n",
    "\n",
    "random_spy_measurement_basis_table=[]\n",
    "\n",
    "for index in range(len(qr)):\n",
    "    if 0.5 < np.random.random():\n",
    "        spyqc.h(qr[index])\n",
    "        random_spy_measurement_basis_table.append('X')\n",
    "    else:\n",
    "        random_spy_measurement_basis_table.append('Z')\n",
    "\n",
    "print(random_spy_measurement_basis_table)\n",
    "\n",
    "spyqc.draw('mpl')\n"
   ]
  },
  {
   "cell_type": "code",
   "execution_count": 127,
   "id": "76312dd1-6c61-4766-931b-0a10de0fe6e2",
   "metadata": {},
   "outputs": [
    {
     "name": "stdout",
     "output_type": "stream",
     "text": [
      "['Z', 'X', 'Z', 'X', 'Z', 'Z', 'Z', 'Z']\n"
     ]
    },
    {
     "data": {
      "image/png": "[encoded data removed]",
      "text/plain": [
       "<Figure size 336.051x565.88 with 1 Axes>"
      ]
     },
     "execution_count": 127,
     "metadata": {},
     "output_type": "execute_result"
    }
   ],
   "source": [
    "#define bob's circuit and the random measurement basis \n",
    "\n",
    "bobqc2 = QuantumCircuit(qr,cr,name='Bob')\n",
    "SendState(spyqc,bobqc2,'Spy')\n",
    "\n",
    "random_bob_measurement_basis_table = []   # Create empty basis table     \n",
    "\n",
    "for index in range(len(qr)):       \n",
    "    if 0.5 < np.random.random():   \n",
    "        bobqc2.h(qr[index])   \n",
    "        random_bob_measurement_basis_table.append('X')   \n",
    "    else:\n",
    "        random_bob_measurement_basis_table.append('Z')    \n",
    "        \n",
    "print(random_bob_measurement_basis_table)\n",
    "\n",
    "bobqc2.draw('mpl')    \n",
    "\n"
   ]
  },
  {
   "cell_type": "code",
   "execution_count": 129,
   "id": "f035d52a-5e15-4bcf-a4a0-c03a2fe11f4c",
   "metadata": {},
   "outputs": [
    {
     "name": "stdout",
     "output_type": "stream",
     "text": [
      "Same choice for qubit: 0, basis: Z\n",
      "\n",
      "Same choice for qubit: 1, basis: X\n",
      "\n",
      "Different choice for qubit: 2, Alice has X, Bob has Z\n",
      "\n",
      "Same choice for qubit: 3, basis: X\n",
      "\n",
      "Same choice for qubit: 4, basis: Z\n",
      "\n",
      "Different choice for qubit: 5, Alice has X, Bob has Z\n",
      "\n",
      "Same choice for qubit: 6, basis: Z\n",
      "\n",
      "Different choice for qubit: 7, Alice has X, Bob has Z\n",
      "\n",
      "Mantained qubits [0, 1, 3, 4, 6]\n",
      "Discarded qubits [2, 5, 7]\n",
      "['1', '1', '1', '1', '1']\n",
      "['1', '1', '0', '1', '1']\n",
      "Percentage of similarity between the keys:  0.8\n"
     ]
    }
   ],
   "source": [
    "# Measure all qubits in Bob and run de simulation\n",
    "\n",
    "for index in range(len(qr)): \n",
    "    bobqc2.measure(qr[index], cr[index])\n",
    "\n",
    "sim = AerSimulator()\n",
    "\n",
    "compiled_circuit = transpile(bobqc2, sim)\n",
    "\n",
    "job=sim.run(compiled_circuit)\n",
    "\n",
    "result = job.result()\n",
    "\n",
    "counts = result.get_counts()\n",
    "\n",
    "bob_keys=[x[::-1] for x in counts.keys()] \n",
    "\n",
    "bob_key=bob_keys[0]\n",
    "\n",
    "keep = []\n",
    "discard = []\n",
    "\n",
    "for qubit, basis in enumerate(zip(random_alice_measurement_basis_table, random_bob_measurement_basis_table)):\n",
    "    if basis[0] == basis[1]:\n",
    "        print(\"Same choice for qubit: {}, basis: {}\\n\" .format(qubit, basis[0])) \n",
    "        keep.append(qubit)\n",
    "    else:\n",
    "        print(\"Different choice for qubit: {}, Alice has {}, Bob has {}\\n\" .format(qubit, basis[0], basis[1]))\n",
    "        discard.append(qubit)\n",
    "print(\"Mantained qubits {}\".format(keep))\n",
    "print(\"Discarded qubits {}\".format(discard))\n",
    "\n",
    "new_alice_key = [alice_key[qubit] for qubit in keep]\n",
    "print(new_alice_key)\n",
    "\n",
    "new_bob_key = [bob_key[qubit] for qubit in keep]\n",
    "print(new_bob_key)\n",
    "\n",
    "acc = 0\n",
    "for bit in zip(new_alice_key, new_bob_key):\n",
    "    if bit[0] == bit[1]:\n",
    "        acc += 1        \n",
    "        \n",
    "print('Percentage of similarity between the keys: ', acc/len(new_alice_key))      \n"
   ]
  },
  {
   "cell_type": "code",
   "execution_count": null,
   "id": "7b4e96e2-ad88-491b-bb2d-e2f115eb6adb",
   "metadata": {},
   "outputs": [],
   "source": []
  }
 ],
 "metadata": {
  "kernelspec": {
   "display_name": "Python 3 (ipykernel)",
   "language": "python",
   "name": "python3"
  },
  "language_info": {
   "codemirror_mode": {
    "name": "ipython",
    "version": 3
   },
   "file_extension": ".py",
   "mimetype": "text/x-python",
   "name": "python",
   "nbconvert_exporter": "python",
   "pygments_lexer": "ipython3",
   "version": "3.9.12"
  }
 },
 "nbformat": 4,
 "nbformat_minor": 5
}
